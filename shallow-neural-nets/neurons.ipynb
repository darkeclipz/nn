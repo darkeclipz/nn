{
 "cells": [
  {
   "cell_type": "code",
   "execution_count": 2,
   "metadata": {},
   "outputs": [],
   "source": [
    "class Neuron:\n",
    "    def __init__(self, weight, bias = 0.0):\n",
    "        self.w = weight\n",
    "        self.b = bias\n",
    "    def __call__(self, x):\n",
    "        return self.w * x + self.b"
   ]
  },
  {
   "cell_type": "code",
   "execution_count": 3,
   "metadata": {},
   "outputs": [],
   "source": [
    "n1 = Neuron(0.5, 0.0)"
   ]
  },
  {
   "cell_type": "code",
   "execution_count": 4,
   "metadata": {},
   "outputs": [
    {
     "data": {
      "text/plain": [
       "0.5"
      ]
     },
     "execution_count": 4,
     "metadata": {},
     "output_type": "execute_result"
    }
   ],
   "source": [
    "n1(1)"
   ]
  },
  {
   "cell_type": "code",
   "execution_count": 5,
   "metadata": {},
   "outputs": [],
   "source": [
    "class Var:\n",
    "    def __init__(self, name, value):\n",
    "        self.name = name\n",
    "        self.value = value\n",
    "    def __call__(self):\n",
    "        return self.value\n",
    "    def __mul__(left, right):\n",
    "        if isinstance(left, (int, float)):\n",
    "            left = Var('v', left)\n",
    "        if isinstance(right, (int, float)):\n",
    "            right = Var('v', right)\n",
    "        return Mul(left, right)\n",
    "    def __repr__(self):\n",
    "        return f\"{self.name} = {self.value}\"\n",
    "\n",
    "class Expr:\n",
    "    def __call__():\n",
    "        raise NotImplementedError()\n",
    "\n",
    "class Add(Expr):\n",
    "    def __init__(self: Expr, left: Expr, right: Expr):\n",
    "        self.left = left\n",
    "        self.right = right\n",
    "    def __call__(self):\n",
    "        return self.left() + self.right()\n",
    "    \n",
    "class Mul(Expr):\n",
    "    def __init__(self: Expr, left: Expr, right: Expr):\n",
    "        self.left = left\n",
    "        self.right = right\n",
    "    def __call__(self):\n",
    "        return self.left() * self.right()\n",
    "    def __repr__(self):\n",
    "        return f\"Mul({self.left}, {self.right})\""
   ]
  },
  {
   "cell_type": "code",
   "execution_count": 6,
   "metadata": {},
   "outputs": [
    {
     "ename": "TypeError",
     "evalue": "unsupported operand type(s) for *: 'Mul' and 'float'",
     "output_type": "error",
     "traceback": [
      "\u001b[1;31m---------------------------------------------------------------------------\u001b[0m",
      "\u001b[1;31mTypeError\u001b[0m                                 Traceback (most recent call last)",
      "\u001b[1;32mc:\\Users\\larsr\\Documents\\Repos\\nn\\shallow-neural-nets\\neurons.ipynb Cell 5\u001b[0m line \u001b[0;36m<cell line: 2>\u001b[1;34m()\u001b[0m\n\u001b[0;32m      <a href='vscode-notebook-cell:/c%3A/Users/larsr/Documents/Repos/nn/shallow-neural-nets/neurons.ipynb#W4sZmlsZQ%3D%3D?line=0'>1</a>\u001b[0m x \u001b[39m=\u001b[39m Var(\u001b[39m'\u001b[39m\u001b[39mx\u001b[39m\u001b[39m'\u001b[39m, \u001b[39m10\u001b[39m)\n\u001b[1;32m----> <a href='vscode-notebook-cell:/c%3A/Users/larsr/Documents/Repos/nn/shallow-neural-nets/neurons.ipynb#W4sZmlsZQ%3D%3D?line=1'>2</a>\u001b[0m x \u001b[39m*\u001b[39;49m \u001b[39m10\u001b[39;49m \u001b[39m*\u001b[39;49m \u001b[39m1.02\u001b[39;49m\n",
      "\u001b[1;31mTypeError\u001b[0m: unsupported operand type(s) for *: 'Mul' and 'float'"
     ]
    }
   ],
   "source": [
    "x = Var('x', 10)\n",
    "x * 10 * 1.02"
   ]
  },
  {
   "cell_type": "code",
   "execution_count": 7,
   "metadata": {},
   "outputs": [],
   "source": [
    "class V:\n",
    "    def __init__(self, v):\n",
    "        self.v = v\n",
    "\n",
    "    def __call__(self):\n",
    "        return self.v\n",
    "    \n",
    "    def __add__(left, right):\n",
    "        if isinstance(left, (int, float)):\n",
    "            left = V(left)\n",
    "        if isinstance(right, (int, float)):\n",
    "            right = V(right)\n",
    "        return E(left, right, '+')\n",
    "    \n",
    "    def __sub__(left, right):\n",
    "        if isinstance(left, (int, float)):\n",
    "            left = V(left)\n",
    "        if isinstance(right, (int, float)):\n",
    "            right = V(right)\n",
    "        return E(left, right, '-')\n",
    "    \n",
    "    def __mul__(left, right):\n",
    "        if isinstance(left, (int, float)):\n",
    "            left = V(left)\n",
    "        if isinstance(right, (int, float)):\n",
    "            right = V(right)\n",
    "        return E(left, right, '*')\n",
    "    \n",
    "    def __repr__(self):\n",
    "        return F\"Const({self.v})\"\n",
    "\n",
    "class E:\n",
    "    def __init__(self, left, right, operand):\n",
    "        self.left = left\n",
    "        self.right = right\n",
    "        self.operand = operand\n",
    "\n",
    "    def __add__(left, right):\n",
    "        if isinstance(left, (int, float)):\n",
    "            left = V(left)\n",
    "        if isinstance(right, (int, float)):\n",
    "            right = V(right)\n",
    "        return E(left, right, '+')\n",
    "    \n",
    "    def __sub__(left, right):\n",
    "        if isinstance(left, (int, float)):\n",
    "            left = V(left)\n",
    "        if isinstance(right, (int, float)):\n",
    "            right = V(right)\n",
    "        return E(left, right, '-')\n",
    "    \n",
    "    def __mul__(left, right):\n",
    "        if isinstance(left, (int, float)):\n",
    "            left = V(left)\n",
    "        if isinstance(right, (int, float)):\n",
    "            right = V(right)\n",
    "        return E(left, right, '*')\n",
    "\n",
    "    def __call__(self):\n",
    "        operators = {\n",
    "            '+': lambda a, b: a + b,\n",
    "            '-': lambda a, b: a - b,\n",
    "            '*': lambda a, b: a * b,\n",
    "            '/': lambda a, b: a / b,\n",
    "        }\n",
    "        operator = operators[self.operand]\n",
    "        return operator(self.left(), self.right())\n",
    "    \n",
    "    def __repr__(self):\n",
    "        operators = {\n",
    "            '+': \"Add\",\n",
    "            '-': \"Sub\",\n",
    "            '*': \"Mul\"\n",
    "        }\n",
    "        return f\"{operators[self.operand]}({self.left}, {self.right})\""
   ]
  },
  {
   "cell_type": "code",
   "execution_count": 8,
   "metadata": {},
   "outputs": [
    {
     "data": {
      "text/plain": [
       "Add(Mul(Mul(Add(Mul(Const(10), Const(12)), Const(13)), Add(Mul(Const(10), Const(12)), Const(13))), Add(Mul(Const(10), Const(12)), Const(13))), Mul(Mul(Add(Mul(Const(10), Const(12)), Const(13)), Add(Mul(Const(10), Const(12)), Const(13))), Add(Mul(Const(10), Const(12)), Const(13))))"
      ]
     },
     "execution_count": 8,
     "metadata": {},
     "output_type": "execute_result"
    }
   ],
   "source": [
    "a = 10\n",
    "b = 12\n",
    "c = 13\n",
    "\n",
    "z = V(a) * b + c\n",
    "\n",
    "z * z * z + z * z * z"
   ]
  },
  {
   "cell_type": "code",
   "execution_count": 9,
   "metadata": {},
   "outputs": [
    {
     "data": {
      "text/plain": [
       "1986011595280"
      ]
     },
     "execution_count": 9,
     "metadata": {},
     "output_type": "execute_result"
    }
   ],
   "source": [
    "id(a)"
   ]
  },
  {
   "cell_type": "code",
   "execution_count": 10,
   "metadata": {},
   "outputs": [
    {
     "data": {
      "text/plain": [
       "'a'"
      ]
     },
     "execution_count": 10,
     "metadata": {},
     "output_type": "execute_result"
    }
   ],
   "source": [
    "f'{a=}'.split('=')[0]"
   ]
  },
  {
   "cell_type": "code",
   "execution_count": null,
   "metadata": {},
   "outputs": [],
   "source": []
  }
 ],
 "metadata": {
  "kernelspec": {
   "display_name": "Python 3",
   "language": "python",
   "name": "python3"
  },
  "language_info": {
   "codemirror_mode": {
    "name": "ipython",
    "version": 3
   },
   "file_extension": ".py",
   "mimetype": "text/x-python",
   "name": "python",
   "nbconvert_exporter": "python",
   "pygments_lexer": "ipython3",
   "version": "3.10.2"
  }
 },
 "nbformat": 4,
 "nbformat_minor": 2
}
