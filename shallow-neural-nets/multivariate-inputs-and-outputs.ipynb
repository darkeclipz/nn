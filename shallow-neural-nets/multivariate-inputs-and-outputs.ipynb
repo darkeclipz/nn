{
 "cells": [
  {
   "cell_type": "code",
   "execution_count": 1,
   "metadata": {},
   "outputs": [],
   "source": [
    "import numpy as np\n",
    "from matplotlib import pyplot as plt"
   ]
  },
  {
   "cell_type": "code",
   "execution_count": 55,
   "metadata": {},
   "outputs": [],
   "source": [
    "relu = lambda x: x if x >= 0.0 else 0.0\n",
    "vrelu = np.vectorize(relu)"
   ]
  },
  {
   "cell_type": "code",
   "execution_count": 2,
   "metadata": {},
   "outputs": [],
   "source": [
    "hidden_units = 4"
   ]
  },
  {
   "cell_type": "code",
   "execution_count": 10,
   "metadata": {},
   "outputs": [
    {
     "data": {
      "text/plain": [
       "array([[-0.29589243,  0.3845971 ],\n",
       "       [ 0.89695216,  0.29570731],\n",
       "       [ 0.50343341, -0.45949163],\n",
       "       [-0.03320455,  0.0483336 ]])"
      ]
     },
     "execution_count": 10,
     "metadata": {},
     "output_type": "execute_result"
    }
   ],
   "source": [
    "theta = np.random.random((4,2)) * 2.0 - 1.0\n",
    "theta"
   ]
  },
  {
   "cell_type": "code",
   "execution_count": 65,
   "metadata": {},
   "outputs": [
    {
     "data": {
      "text/plain": [
       "array([[ 0.19042084,  0.49242779,  0.4599142 ,  0.51657101,  0.16721592],\n",
       "       [-0.16500914, -0.97698992,  0.98892004,  0.7378984 , -0.49275162]])"
      ]
     },
     "execution_count": 65,
     "metadata": {},
     "output_type": "execute_result"
    }
   ],
   "source": [
    "phi = np.random.random((5, 2)) * 2.0 - 1.0\n",
    "phi.T"
   ]
  },
  {
   "cell_type": "code",
   "execution_count": 27,
   "metadata": {},
   "outputs": [],
   "source": [
    "x = 0.5"
   ]
  },
  {
   "cell_type": "code",
   "execution_count": 28,
   "metadata": {},
   "outputs": [
    {
     "data": {
      "text/plain": [
       "array([1., 1., 1., 1.])"
      ]
     },
     "execution_count": 28,
     "metadata": {},
     "output_type": "execute_result"
    }
   ],
   "source": [
    "np.ones(4)"
   ]
  },
  {
   "cell_type": "code",
   "execution_count": 29,
   "metadata": {},
   "outputs": [
    {
     "data": {
      "text/plain": [
       "array([0.5, 0.5, 0.5, 0.5])"
      ]
     },
     "execution_count": 29,
     "metadata": {},
     "output_type": "execute_result"
    }
   ],
   "source": [
    "np.repeat(x, 4)"
   ]
  },
  {
   "cell_type": "code",
   "execution_count": 30,
   "metadata": {},
   "outputs": [
    {
     "data": {
      "text/plain": [
       "array([[1. , 1. , 1. , 1. ],\n",
       "       [0.5, 0.5, 0.5, 0.5]])"
      ]
     },
     "execution_count": 30,
     "metadata": {},
     "output_type": "execute_result"
    }
   ],
   "source": [
    "np.vstack([np.ones(4), np.repeat(x, 4)])"
   ]
  },
  {
   "cell_type": "code",
   "execution_count": 79,
   "metadata": {},
   "outputs": [
    {
     "name": "stdout",
     "output_type": "stream",
     "text": [
      "[-0.10359388  1.04480582  0.27368759 -0.00903775]\n",
      "[0.         1.04480582 0.27368759 0.        ]\n"
     ]
    },
    {
     "data": {
      "text/plain": [
       "array([0.81232094, 1.07017391])"
      ]
     },
     "execution_count": 79,
     "metadata": {},
     "output_type": "execute_result"
    }
   ],
   "source": [
    "pre_activation = theta[:, 0] + theta[:, 1] * np.repeat(x, 4)\n",
    "print(pre_activation)\n",
    "\n",
    "h = vrelu(pre_activation)\n",
    "print(h)\n",
    "\n",
    "h = np.insert(h, 0, 1, axis=0)\n",
    "h\n",
    "\n",
    "phi.T @ h"
   ]
  },
  {
   "cell_type": "code",
   "execution_count": 413,
   "metadata": {},
   "outputs": [
    {
     "data": {
      "image/png": "[encoded data removed]",
      "text/plain": [
       "<Figure size 1000x600 with 1 Axes>"
      ]
     },
     "metadata": {},
     "output_type": "display_data"
    }
   ],
   "source": [
    "hidden_units = 4\n",
    "theta = np.random.random((hidden_units, 2)) * 2.0 - 1.0\n",
    "phi = np.random.random((hidden_units + 1, 2)) * 2.0 - 1.0\n",
    "\n",
    "def y(x):\n",
    "    pre_activation = theta[:, 0] + theta[:, 1] * np.repeat(x, hidden_units)\n",
    "    h = vrelu(pre_activation)\n",
    "    h = np.insert(h, 0, 1, axis=0)\n",
    "    return phi.T @ h\n",
    "\n",
    "vy = np.vectorize(y)\n",
    "X = np.linspace(0.0, 2.0, 100)\n",
    "\n",
    "ys = []\n",
    "for x in X:\n",
    "    ys.append(y(x))\n",
    "\n",
    "plt.figure(figsize=(10,6))\n",
    "plt.xlim([0, 2])\n",
    "# plt.ylim([-2, 2])\n",
    "plt.plot(X, ys, lw=3)\n",
    "plt.xlabel(\"Input $x$\")\n",
    "plt.ylabel(\"Output $y_i$\")\n",
    "plt.legend([\"$y_1$\", \"$y_2$\"])\n",
    "\n",
    "dfdx2 = np.abs(np.diff(np.diff(np.array(ys)[:, 0]))) >= 1e-5\n",
    "dfdx2 = np.concatenate(([False], dfdx2))\n",
    "\n",
    "for i in range(dfdx2.shape[0]):\n",
    "    if dfdx2[i]:\n",
    "        plt.axvline(X[i], ls='dashed', c='gray', lw='2')"
   ]
  },
  {
   "cell_type": "code",
   "execution_count": 341,
   "metadata": {},
   "outputs": [
    {
     "data": {
      "text/plain": [
       "array([ 6, 15, 24])"
      ]
     },
     "execution_count": 341,
     "metadata": {},
     "output_type": "execute_result"
    }
   ],
   "source": [
    "np.array([1,1,1]) * np.array(range(1, 10)).reshape((3, 3)).T"
   ]
  },
  {
   "cell_type": "code",
   "execution_count": 342,
   "metadata": {},
   "outputs": [
    {
     "data": {
      "text/plain": [
       "array([1, 1, 1])"
      ]
     },
     "execution_count": 342,
     "metadata": {},
     "output_type": "execute_result"
    }
   ],
   "source": [
    "np.array([1,1,1])"
   ]
  },
  {
   "cell_type": "code",
   "execution_count": 343,
   "metadata": {},
   "outputs": [
    {
     "data": {
      "text/plain": [
       "array([[1, 4, 7],\n",
       "       [2, 5, 8],\n",
       "       [3, 6, 9]])"
      ]
     },
     "execution_count": 343,
     "metadata": {},
     "output_type": "execute_result"
    }
   ],
   "source": [
    "np.array(range(1, 10)).reshape((3, 3)).T"
   ]
  },
  {
   "cell_type": "code",
   "execution_count": 400,
   "metadata": {},
   "outputs": [
    {
     "name": "stdout",
     "output_type": "stream",
     "text": [
      "X=array([1., 1., 1.])\n",
      "X=array([1., 1., 1., 1.])\n",
      "theta=array([[0.47363976, 0.25363178, 0.13144047, 0.17332338],\n",
      "       [0.85582078, 0.3895613 , 0.43968055, 0.89043037],\n",
      "       [0.34196351, 0.75778733, 0.63115598, 0.67223819],\n",
      "       [0.88703461, 0.88199057, 0.43263541, 0.41040973],\n",
      "       [0.16764564, 0.53395146, 0.62659949, 0.58935243],\n",
      "       [0.08997044, 0.8915849 , 0.62539464, 0.09833306],\n",
      "       [0.61523309, 0.16586195, 0.53407176, 0.60210947],\n",
      "       [0.51557439, 0.75732027, 0.63878981, 0.77139029],\n",
      "       [0.83423875, 0.59153948, 0.84126826, 0.31528122],\n",
      "       [0.26289359, 0.48171942, 0.94141663, 0.53568029],\n",
      "       [0.29815283, 0.63418729, 0.44634941, 0.22535929],\n",
      "       [0.8166824 , 0.63647227, 0.3710827 , 0.16431642],\n",
      "       [0.55176131, 0.63946603, 0.71174447, 0.47977346],\n",
      "       [0.64019255, 0.84471194, 0.23452583, 0.91566628],\n",
      "       [0.29935202, 0.87680008, 0.46570441, 0.92513366],\n",
      "       [0.35930365, 0.86928832, 0.26813292, 0.62191908]])\n",
      "phi=array([[0.92024807, 0.30623155, 0.68234726, 0.83833287, 0.16759733,\n",
      "        0.63745503, 0.97303789, 0.26299345, 0.94308617, 0.91804853,\n",
      "        0.38906615, 0.06746632, 0.78008189, 0.20329357, 0.28440118,\n",
      "        0.12453899, 0.94079683],\n",
      "       [0.20286933, 0.32775676, 0.950503  , 0.43587719, 0.11791203,\n",
      "        0.82791858, 0.44947552, 0.72905837, 0.36147735, 0.4443698 ,\n",
      "        0.57231445, 0.88860477, 0.49184499, 0.8278616 , 0.29538959,\n",
      "        0.20031112, 0.10568648]])\n",
      "y=array([19.80361367, 17.37786772])\n"
     ]
    }
   ],
   "source": [
    "n_inputs = 3\n",
    "n_hidden = 16\n",
    "n_outputs = 2\n",
    "\n",
    "X = np.array(np.ones(n_inputs))\n",
    "print(f\"{X=}\")\n",
    "\n",
    "X = np.concatenate(([1], X))\n",
    "print(f\"{X=}\")\n",
    "\n",
    "theta = np.random.random((n_hidden, n_inputs + 1))\n",
    "print(f\"{theta=}\")\n",
    "\n",
    "phi = np.random.random((n_outputs, n_hidden + 1))\n",
    "print(f\"{phi=}\")\n",
    "\n",
    "y = phi @ np.concatenate(([1], vrelu(X @ theta.T)))\n",
    "print(f\"{y=}\")"
   ]
  },
  {
   "cell_type": "code",
   "execution_count": null,
   "metadata": {},
   "outputs": [],
   "source": []
  }
 ],
 "metadata": {
  "kernelspec": {
   "display_name": "Python 3",
   "language": "python",
   "name": "python3"
  },
  "language_info": {
   "codemirror_mode": {
    "name": "ipython",
    "version": 3
   },
   "file_extension": ".py",
   "mimetype": "text/x-python",
   "name": "python",
   "nbconvert_exporter": "python",
   "pygments_lexer": "ipython3",
   "version": "3.11.6"
  }
 },
 "nbformat": 4,
 "nbformat_minor": 2
}
