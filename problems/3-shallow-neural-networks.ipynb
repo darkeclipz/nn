{
 "cells": [
  {
   "cell_type": "code",
   "execution_count": 2,
   "metadata": {},
   "outputs": [],
   "source": [
    "import numpy as np\n",
    "from matplotlib import pyplot as plt"
   ]
  },
  {
   "cell_type": "markdown",
   "metadata": {},
   "source": [
    "# Problem 1\n",
    "\n",
    "What kind of mapping from input to output would be created if the activation function in equation 3.1 was linear, so that $a[z] = \\psi_0 + \\psi_1z$? What kind of mapping would be created if the activation function was removed, so $a[z] = z$?"
   ]
  },
  {
   "cell_type": "markdown",
   "metadata": {},
   "source": [
    "We have equation 3.1 which is\n",
    "\n",
    "$$\n",
    "y = \\phi_0 + \\phi_1 a[\\theta_{10} + \\theta_{11}x] + \\phi_2 a[\\theta_{20} + \\theta_{21}x] + \\phi_3 a[\\theta_{30} + \\theta_{31}x]\n",
    "$$\n",
    "\n",
    "which, after substituting the activation, function becomes:\n",
    "\n",
    "$$\n",
    "y = \\phi_0 + \\phi_1 (\\psi_{0} + \\psi_{1} (\\theta_{10} + \\theta_{11}x)) + \\phi_2 (\\psi_{0} + \\psi_{1} (\\theta_{20} + \\theta_{21}x)) + \\phi_3 (\\psi_{0} + \\psi_{1} (\\theta_{30} + \\theta_{31}x))\n",
    "$$\n",
    "\n",
    "which is a linear transformation follow by a translation, also known as an affine mapping. As we can see with the code below, such an activation function will only allow us to model a linear function. If we replace the activation function with the identity function, then one affine transformation is removed from the mapping, but this will nonetheless still result in a predictor that can model linear function."
   ]
  },
  {
   "cell_type": "code",
   "execution_count": 45,
   "metadata": {},
   "outputs": [
    {
     "name": "stdout",
     "output_type": "stream",
     "text": [
      "theta=array([[-0.33937289, -0.16513302],\n",
      "       [-0.73857295,  0.8657546 ],\n",
      "       [-0.96732889,  0.97010162]])\n",
      "phi=array([-0.05122422,  0.77523643, -0.54587239, -0.5002697 ])\n",
      "psi0=0.33051486275671915 psi1=-0.2341178823545389\n",
      "theta=array([[-0.33937289, -0.16513302],\n",
      "       [-0.73857295,  0.8657546 ],\n",
      "       [-0.96732889,  0.97010162]])\n"
     ]
    },
    {
     "data": {
      "text/plain": [
       "(-2.0, 2.0)"
      ]
     },
     "execution_count": 45,
     "metadata": {},
     "output_type": "execute_result"
    },
    {
     "data": {
      "image/png": "[encoded data removed]",
      "text/plain": [
       "<Figure size 400x400 with 12 Axes>"
      ]
     },
     "metadata": {},
     "output_type": "display_data"
    }
   ],
   "source": [
    "theta = np.random.random((3, 2)) * 2 - 1\n",
    "phi = np.random.random(4) * 2 - 1\n",
    "psi0, psi1 = np.random.random(2) * 2 - 1\n",
    "a = np.vectorize(lambda x: psi0 + psi1 * x)\n",
    "\n",
    "print(f\"{theta=}\")\n",
    "print(f\"{phi=}\")\n",
    "print(f\"{psi0=} {psi1=}\")\n",
    "print(f\"{theta=}\")\n",
    "\n",
    "n = 32\n",
    "size = 2\n",
    "\n",
    "fig, axs = plt.subplots(4, 3, figsize=(4, 4))\n",
    "for i in range(3):\n",
    "    X = np.linspace(-size, size, n)\n",
    "    Y = theta[:, 0][i] + X * theta[:, 1][i]\n",
    "    axs[0, i].plot(X, Y, lw=2, c=\"orange\")\n",
    "    axs[0, i].set_xlim([-size, size])\n",
    "    axs[0, i].set_ylim([-size, size])\n",
    "    Y = a(Y)\n",
    "    axs[1, i].plot(X, Y, lw=2, c=\"orange\")\n",
    "    axs[1, i].set_xlim([-size, size])\n",
    "    axs[1, i].set_ylim([-size, size])\n",
    "    Y = phi[i] * Y\n",
    "    axs[2, i].plot(X, Y, lw=2, c=\"orange\")\n",
    "    axs[2, i].set_xlim([-size, size])\n",
    "    axs[2, i].set_ylim([-size, size])\n",
    "\n",
    "\n",
    "f = np.vectorize(lambda x: np.dot(phi[1:], a(x * theta[:, 1] + theta[:, 0])) + phi[0])\n",
    "Y = f(X)\n",
    "axs[3, 1].plot(X, Y, lw=4, c='orange');\n",
    "axs[3, 1].set_xlim(-size, size)\n",
    "axs[3, 1].set_ylim(-size, size)"
   ]
  },
  {
   "cell_type": "markdown",
   "metadata": {},
   "source": [
    "# Problem 2\n",
    "\n",
    "For each of the four linear regions in figure 3.3j, indicate which hidden units are inactive and which are active.\n",
    "\n",
    "![problem 3.2](3.2.png)\n"
   ]
  },
  {
   "cell_type": "code",
   "execution_count": null,
   "metadata": {},
   "outputs": [],
   "source": []
  }
 ],
 "metadata": {
  "kernelspec": {
   "display_name": "Python 3",
   "language": "python",
   "name": "python3"
  },
  "language_info": {
   "codemirror_mode": {
    "name": "ipython",
    "version": 3
   },
   "file_extension": ".py",
   "mimetype": "text/x-python",
   "name": "python",
   "nbconvert_exporter": "python",
   "pygments_lexer": "ipython3",
   "version": "3.11.6"
  }
 },
 "nbformat": 4,
 "nbformat_minor": 2
}
