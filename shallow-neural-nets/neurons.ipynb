{
 "cells": [
  {
   "cell_type": "code",
   "execution_count": 1,
   "metadata": {},
   "outputs": [],
   "source": [
    "class Neuron:\n",
    "    def __init__(self, weight, bias = 0.0):\n",
    "        self.w = weight\n",
    "        self.b = bias\n",
    "    def __call__(self, x):\n",
    "        return self.w * x + self.b"
   ]
  },
  {
   "cell_type": "code",
   "execution_count": 6,
   "metadata": {},
   "outputs": [],
   "source": [
    "class V:\n",
    "    def __init__(self, v):\n",
    "        self.v = v\n",
    "\n",
    "    def __call__(self):\n",
    "        return self.v\n",
    "    \n",
    "    def __add__(left, right):\n",
    "        if isinstance(left, (int, float)):\n",
    "            left = V(left)\n",
    "        if isinstance(right, (int, float)):\n",
    "            right = V(right)\n",
    "        return E(left, right, '+')\n",
    "    \n",
    "    def __sub__(left, right):\n",
    "        if isinstance(left, (int, float)):\n",
    "            left = V(left)\n",
    "        if isinstance(right, (int, float)):\n",
    "            right = V(right)\n",
    "        return E(left, right, '-')\n",
    "    \n",
    "    def __mul__(left, right):\n",
    "        if isinstance(left, (int, float)):\n",
    "            left = V(left)\n",
    "        if isinstance(right, (int, float)):\n",
    "            right = V(right)\n",
    "        return E(left, right, '*')\n",
    "    \n",
    "    def __repr__(self):\n",
    "        return F\"Const({self.v})\"\n",
    "\n",
    "class E:\n",
    "    def __init__(self, left, right, operand):\n",
    "        self.left = left\n",
    "        self.right = right\n",
    "        self.operand = operand\n",
    "\n",
    "    def __add__(left, right):\n",
    "        if isinstance(left, (int, float)):\n",
    "            left = V(left)\n",
    "        if isinstance(right, (int, float)):\n",
    "            right = V(right)\n",
    "        return E(left, right, '+')\n",
    "    \n",
    "    def __sub__(left, right):\n",
    "        if isinstance(left, (int, float)):\n",
    "            left = V(left)\n",
    "        if isinstance(right, (int, float)):\n",
    "            right = V(right)\n",
    "        return E(left, right, '-')\n",
    "    \n",
    "    def __mul__(left, right):\n",
    "        if isinstance(left, (int, float)):\n",
    "            left = V(left)\n",
    "        if isinstance(right, (int, float)):\n",
    "            right = V(right)\n",
    "        return E(left, right, '*')\n",
    "\n",
    "    def __call__(self):\n",
    "        operators = {\n",
    "            '+': lambda a, b: a + b,\n",
    "            '-': lambda a, b: a - b,\n",
    "            '*': lambda a, b: a * b,\n",
    "            '/': lambda a, b: a / b,\n",
    "        }\n",
    "        operator = operators[self.operand]\n",
    "        return operator(self.left(), self.right())\n",
    "    \n",
    "    def __repr__(self):\n",
    "        operators = {\n",
    "            '+': \"Add\",\n",
    "            '-': \"Sub\",\n",
    "            '*': \"Mul\"\n",
    "        }\n",
    "        return f\"{operators[self.operand]}({self.left}, {self.right})\""
   ]
  },
  {
   "cell_type": "code",
   "execution_count": 7,
   "metadata": {},
   "outputs": [
    {
     "data": {
      "text/plain": [
       "Add(Mul(Mul(Add(Mul(Const(10), Const(12)), Const(13)), Add(Mul(Const(10), Const(12)), Const(13))), Add(Mul(Const(10), Const(12)), Const(13))), Mul(Mul(Add(Mul(Const(10), Const(12)), Const(13)), Add(Mul(Const(10), Const(12)), Const(13))), Add(Mul(Const(10), Const(12)), Const(13))))"
      ]
     },
     "execution_count": 7,
     "metadata": {},
     "output_type": "execute_result"
    }
   ],
   "source": [
    "a = 10\n",
    "b = 12\n",
    "c = 13\n",
    "\n",
    "z = V(a) * b + c\n",
    "\n",
    "z * z * z + z * z * z"
   ]
  },
  {
   "cell_type": "code",
   "execution_count": 8,
   "metadata": {},
   "outputs": [
    {
     "data": {
      "text/plain": [
       "140731528701000"
      ]
     },
     "execution_count": 8,
     "metadata": {},
     "output_type": "execute_result"
    }
   ],
   "source": [
    "id(a)"
   ]
  },
  {
   "cell_type": "code",
   "execution_count": 9,
   "metadata": {},
   "outputs": [
    {
     "data": {
      "text/plain": [
       "'a'"
      ]
     },
     "execution_count": 9,
     "metadata": {},
     "output_type": "execute_result"
    }
   ],
   "source": [
    "f'{a=}'.split('=')[0]"
   ]
  },
  {
   "cell_type": "code",
   "execution_count": null,
   "metadata": {},
   "outputs": [],
   "source": []
  }
 ],
 "metadata": {
  "kernelspec": {
   "display_name": "Python 3",
   "language": "python",
   "name": "python3"
  },
  "language_info": {
   "codemirror_mode": {
    "name": "ipython",
    "version": 3
   },
   "file_extension": ".py",
   "mimetype": "text/x-python",
   "name": "python",
   "nbconvert_exporter": "python",
   "pygments_lexer": "ipython3",
   "version": "3.11.6"
  }
 },
 "nbformat": 4,
 "nbformat_minor": 2
}
